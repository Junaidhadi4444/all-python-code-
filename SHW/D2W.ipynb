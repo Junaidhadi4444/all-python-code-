{
 "cells": [
  {
   "cell_type": "markdown",
   "metadata": {},
   "source": [
    "class: a \"blueprint\" for creating objects. group of att and method"
   ]
  },
  {
   "cell_type": "code",
   "execution_count": 11,
   "metadata": {},
   "outputs": [],
   "source": [
    "class myclass:\n",
    "    age=5\n",
    "    "
   ]
  },
  {
   "cell_type": "code",
   "execution_count": 5,
   "metadata": {},
   "outputs": [
    {
     "name": "stdout",
     "output_type": "stream",
     "text": [
      "5\n"
     ]
    }
   ],
   "source": [
    "# creating object\n",
    "y=myclass()\n",
    "print(y.age)"
   ]
  },
  {
   "cell_type": "markdown",
   "metadata": {},
   "source": [
    " __init__() function:used to intiaize var. to assign values to object properties, or other operations "
   ]
  },
  {
   "cell_type": "code",
   "execution_count": 6,
   "metadata": {},
   "outputs": [
    {
     "name": "stdout",
     "output_type": "stream",
     "text": [
      "junaid\n",
      "22\n"
     ]
    }
   ],
   "source": [
    "class Person:\n",
    "    def __init__(self, name, age):\n",
    "        self.name=name\n",
    "        self.age=age\n",
    "p1=Person(\"junaid\", 22)\n",
    "print(p1.name)\n",
    "print(p1.age)"
   ]
  },
  {
   "cell_type": "code",
   "execution_count": 10,
   "metadata": {},
   "outputs": [
    {
     "name": "stdout",
     "output_type": "stream",
     "text": [
      "('fawad', 23)\n"
     ]
    }
   ],
   "source": [
    "# string representation of an object WITH the __str__() function:\n",
    "class person:\n",
    "    def __init__(self, name, age):\n",
    "        self.name=name\n",
    "        self.age=age\n",
    "    def __str__(self):\n",
    "        return f\"{self.name}({self.age})\"\n",
    "p1 =(\"fawad\", 23)\n",
    "print(p1)"
   ]
  },
  {
   "cell_type": "code",
   "execution_count": 13,
   "metadata": {},
   "outputs": [
    {
     "name": "stdout",
     "output_type": "stream",
     "text": [
      "model: iphone\n"
     ]
    }
   ],
   "source": [
    "class mobile:\n",
    "    def __init__(self):\n",
    "        self.model='iphone'\n",
    "    def show_model(self):\n",
    "        print(\"model:\", self.model)\n",
    "iphone=mobile()\n",
    "iphone.show_model()"
   ]
  },
  {
   "cell_type": "code",
   "execution_count": 14,
   "metadata": {},
   "outputs": [
    {
     "name": "stdout",
     "output_type": "stream",
     "text": [
      "model: iphone pro\n"
     ]
    }
   ],
   "source": [
    "# modify obj propeties\n",
    "iphone.model='iphone pro'\n",
    "iphone.show_model()\n",
    "# delete object"
   ]
  },
  {
   "cell_type": "markdown",
   "metadata": {},
   "source": [
    "inhertance:"
   ]
  },
  {
   "cell_type": "code",
   "execution_count": 20,
   "metadata": {},
   "outputs": [
    {
     "name": "stdout",
     "output_type": "stream",
     "text": [
      "animal speak\n",
      "dog bark\n"
     ]
    }
   ],
   "source": [
    "# parent class\n",
    "class animals:\n",
    "    def speaks(self):\n",
    "        return \"animal speak\"\n",
    "    \n",
    "# child class\n",
    "class dog(animals):\n",
    "    def bark(self):\n",
    "        return \"dog bark\"\n",
    "    \n",
    "my_dog=dog()\n",
    "print(my_dog.speaks())\n",
    "print(my_dog.bark())"
   ]
  },
  {
   "cell_type": "markdown",
   "metadata": {},
   "source": [
    "inherit method with method overriding"
   ]
  },
  {
   "cell_type": "code",
   "execution_count": 21,
   "metadata": {},
   "outputs": [
    {
     "name": "stdout",
     "output_type": "stream",
     "text": [
      "dog speak\n"
     ]
    }
   ],
   "source": [
    "class animals:\n",
    "    def speaks(self):\n",
    "        return \"animals speaks\"\n",
    "\n",
    "class dog(animals):\n",
    "    def speaks(sel):\n",
    "        return \"dog speak\"\n",
    "    \n",
    "my_dog=dog()\n",
    "print(my_dog.speaks())\n"
   ]
  },
  {
   "cell_type": "markdown",
   "metadata": {},
   "source": [
    "multiple iheritance "
   ]
  },
  {
   "cell_type": "code",
   "execution_count": 22,
   "metadata": {},
   "outputs": [
    {
     "name": "stdout",
     "output_type": "stream",
     "text": [
      "Canine runs\n",
      "Pet plays\n",
      "Dog barks\n"
     ]
    }
   ],
   "source": [
    "class Canine:\n",
    "    def run(self):\n",
    "        return \"Canine runs\"\n",
    "\n",
    "class Pet:\n",
    "    def play(self):\n",
    "        return \"Pet plays\"\n",
    "\n",
    "class Dog(Canine, Pet):  # Dog inherits from both Canine and Pet\n",
    "    def bark(self):\n",
    "        return \"Dog barks\"\n",
    "\n",
    "# Creating an object of Dog\n",
    "my_dog = Dog()\n",
    "print(my_dog.run())   \n",
    "print(my_dog.play())  \n",
    "print(my_dog.bark())  \n"
   ]
  },
  {
   "cell_type": "markdown",
   "metadata": {},
   "source": [
    "best practice of inheritance "
   ]
  },
  {
   "cell_type": "code",
   "execution_count": 29,
   "metadata": {},
   "outputs": [
    {
     "name": "stdout",
     "output_type": "stream",
     "text": [
      "Buddy makes a sound and Dog barks\n"
     ]
    }
   ],
   "source": [
    "class Animal:\n",
    "    def __init__(self, name):\n",
    "        self.name = name\n",
    "    \n",
    "    def speak(self):\n",
    "        return f\"{self.name} makes a sound\"\n",
    "\n",
    "class Dog(Animal):\n",
    "    def __init__(self, name, breed):\n",
    "        # Call the parent class constructor\n",
    "        super().__init__(name)\n",
    "        self.breed = breed\n",
    "\n",
    "    # Overriding the speak method but calling the parent method\n",
    "    def speak(self):\n",
    "        parent_speech = super().speak()  # Calling the parent's speak method\n",
    "        return f\"{parent_speech} and Dog barks\"\n",
    "\n",
    "# Creating an object of Dog\n",
    "my_dog = Dog(\"Buddy\", \"Golden Retriever\")\n",
    "print(my_dog.speak())\n"
   ]
  },
  {
   "cell_type": "markdown",
   "metadata": {},
   "source": [
    "iterator: traverse through all the elements of a collection (like lists, tuples, or strings) one at a time"
   ]
  },
  {
   "cell_type": "code",
   "execution_count": 32,
   "metadata": {},
   "outputs": [
    {
     "name": "stdout",
     "output_type": "stream",
     "text": [
      "1\n",
      "2\n",
      "3\n"
     ]
    }
   ],
   "source": [
    "# on list\n",
    "numbers = [1, 2, 3]\n",
    "\n",
    "# Creating an iterator from the list\n",
    "iterator = iter(numbers)\n",
    "\n",
    "# Accessing elements one by one using the next() function\n",
    "print(next(iterator)) \n",
    "print(next(iterator))  \n",
    "print(next(iterator))  \n",
    "\n"
   ]
  },
  {
   "cell_type": "code",
   "execution_count": 36,
   "metadata": {},
   "outputs": [
    {
     "name": "stdout",
     "output_type": "stream",
     "text": [
      "b\n",
      "a\n",
      "n\n",
      "a\n",
      "n\n",
      "a\n"
     ]
    }
   ],
   "source": [
    "# on string\n",
    "mystr = \"banana\"\n",
    "myit = iter(mystr)\n",
    "\n",
    "print(next(myit))\n",
    "print(next(myit))\n",
    "print(next(myit))\n",
    "print(next(myit))\n",
    "print(next(myit))\n",
    "print(next(myit))"
   ]
  },
  {
   "cell_type": "markdown",
   "metadata": {},
   "source": [
    "best practice: Using Generators for Simplicity and Efficiency"
   ]
  },
  {
   "cell_type": "code",
   "execution_count": 37,
   "metadata": {},
   "outputs": [
    {
     "name": "stdout",
     "output_type": "stream",
     "text": [
      "1\n",
      "2\n",
      "3\n",
      "4\n",
      "5\n"
     ]
    }
   ],
   "source": [
    "def counter_generator(start, end):\n",
    "    current = start\n",
    "    while current <= end:\n",
    "        yield current  # Yield the current value and pause execution\n",
    "        current += 1\n",
    "\n",
    "# Using the generator to iterate from 1 to 5\n",
    "for number in counter_generator(1, 5):\n",
    "    print(number)"
   ]
  },
  {
   "cell_type": "markdown",
   "metadata": {},
   "source": [
    "iterate the value of tuple using for loop"
   ]
  },
  {
   "cell_type": "code",
   "execution_count": 38,
   "metadata": {},
   "outputs": [
    {
     "name": "stdout",
     "output_type": "stream",
     "text": [
      "apple\n",
      "banana\n",
      "cherry\n"
     ]
    }
   ],
   "source": [
    "a = (\"apple\", \"banana\", \"cherry\")\n",
    "\n",
    "for x in a:\n",
    "  print(x)"
   ]
  },
  {
   "cell_type": "code",
   "execution_count": 40,
   "metadata": {},
   "outputs": [
    {
     "name": "stdout",
     "output_type": "stream",
     "text": [
      "1\n",
      "2\n",
      "3\n",
      "4\n",
      "5\n",
      "6\n",
      "7\n"
     ]
    }
   ],
   "source": [
    "class MyNumbers:\n",
    "  def __iter__(self):\n",
    "    self.a = 1\n",
    "    return self\n",
    "\n",
    "  def __next__(self):\n",
    "    x = self.a\n",
    "    self.a += 1\n",
    "    return x\n",
    "\n",
    "myclass = MyNumbers()\n",
    "myiter = iter(myclass)\n",
    "\n",
    "print(next(myiter))\n",
    "print(next(myiter))\n",
    "print(next(myiter))\n",
    "print(next(myiter))\n",
    "print(next(myiter))\n",
    "print(next(myiter))\n",
    "print(next(myiter))"
   ]
  },
  {
   "cell_type": "markdown",
   "metadata": {},
   "source": [
    "Polymorphism with Method Overriding"
   ]
  },
  {
   "cell_type": "code",
   "execution_count": 41,
   "metadata": {},
   "outputs": [
    {
     "name": "stdout",
     "output_type": "stream",
     "text": [
      "Dog barks\n",
      "Cat meows\n"
     ]
    }
   ],
   "source": [
    "class Animal:\n",
    "    def speak(self):\n",
    "        return \"Animal makes a sound\"\n",
    "\n",
    "class Dog(Animal):\n",
    "    def speak(self):\n",
    "        return \"Dog barks\"\n",
    "\n",
    "class Cat(Animal):\n",
    "    def speak(self):\n",
    "        return \"Cat meows\"\n",
    "\n",
    "# Using polymorphism in action\n",
    "def animal_speak(animal):\n",
    "    print(animal.speak())\n",
    "\n",
    "# Both Dog and Cat are instances of Animal but with different behaviors\n",
    "dog = Dog()\n",
    "cat = Cat()\n",
    "\n",
    "animal_speak(dog) \n",
    "animal_speak(cat)  \n"
   ]
  },
  {
   "cell_type": "markdown",
   "metadata": {},
   "source": [
    "local scope"
   ]
  },
  {
   "cell_type": "code",
   "execution_count": 42,
   "metadata": {},
   "outputs": [
    {
     "name": "stdout",
     "output_type": "stream",
     "text": [
      "300\n"
     ]
    }
   ],
   "source": [
    "def myfunc():\n",
    "  x = 300\n",
    "  print(x)\n",
    "\n",
    "myfunc()"
   ]
  },
  {
   "cell_type": "code",
   "execution_count": 47,
   "metadata": {},
   "outputs": [
    {
     "name": "stdout",
     "output_type": "stream",
     "text": [
      "300\n",
      "300\n"
     ]
    }
   ],
   "source": [
    "x = 300\n",
    "\n",
    "def myfunc():\n",
    "  print(x)\n",
    "\n",
    "myfunc()\n",
    "\n",
    "print(x)"
   ]
  },
  {
   "cell_type": "markdown",
   "metadata": {},
   "source": [
    "RegEx: sequence of characters that forms a search pattern.\n",
    "used to check if a string contains the specified search pattern."
   ]
  },
  {
   "cell_type": "code",
   "execution_count": 6,
   "metadata": {},
   "outputs": [
    {
     "name": "stdout",
     "output_type": "stream",
     "text": [
      "<re.Match object; span=(0, 17), match='The rain in Spain'>\n"
     ]
    }
   ],
   "source": [
    "import re\n",
    "\n",
    "txt = \"The rain in Spain\"\n",
    "x = re.search(\"^The.*Spain$\", txt)\n",
    "print(x)"
   ]
  },
  {
   "cell_type": "code",
   "execution_count": null,
   "metadata": {},
   "outputs": [],
   "source": []
  }
 ],
 "metadata": {
  "kernelspec": {
   "display_name": "Python 3",
   "language": "python",
   "name": "python3"
  },
  "language_info": {
   "codemirror_mode": {
    "name": "ipython",
    "version": 3
   },
   "file_extension": ".py",
   "mimetype": "text/x-python",
   "name": "python",
   "nbconvert_exporter": "python",
   "pygments_lexer": "ipython3",
   "version": "3.10.0"
  }
 },
 "nbformat": 4,
 "nbformat_minor": 2
}
